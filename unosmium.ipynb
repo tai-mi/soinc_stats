{
 "cells": [
  {
   "cell_type": "code",
   "execution_count": 3,
   "metadata": {},
   "outputs": [],
   "source": [
    "import urllib\n",
    "from bs4 import BeautifulSoup\n",
    "import yaml\n",
    "\n",
    "mainUrl = 'https://duosmium.org/results/'\n",
    "\n",
    "# parse mainpage\n",
    "fh = urllib.request.urlopen(mainUrl)\n",
    "bs = BeautifulSoup(fh,'html.parser')\n",
    "\n",
    "# obtain tournament urls\n",
    "tourns = bs.find_all('a',{'class':'btn btn-outline-primary full-results'})\n",
    "refs = ['https://duosmium.org'+i['href'] for i in tourns]\n",
    "refs2 = [i.replace('/results/','/data/')+'.yaml' for i in refs]"
   ]
  },
  {
   "cell_type": "code",
   "execution_count": 2,
   "metadata": {},
   "outputs": [
    {
     "data": {
      "text/plain": [
       "<sqlite3.Cursor at 0x24877ebe260>"
      ]
     },
     "execution_count": 2,
     "metadata": {},
     "output_type": "execute_result"
    }
   ],
   "source": [
    "import sqlite3\n",
    "\n",
    "conn = sqlite3.connect('unosmium.sqlite',timeout=10)\n",
    "cur = conn.cursor()\n",
    "\n",
    "cur.executescript('''\n",
    "    drop table if exists events;\n",
    "    drop table if exists teams;\n",
    "    drop table if exists places;\n",
    "    drop table if exists tournaments;\n",
    "    drop table if exists events_tournaments''')"
   ]
  },
  {
   "cell_type": "code",
   "execution_count": null,
   "metadata": {},
   "outputs": [],
   "source": [
    "cur.executescript('''\n",
    "    create table if not exists events(\n",
    "        id INTEGER PRIMARY KEY AUTOINCREMENT UNIQUE NOT NULL,\n",
    "        event TEXT UNIQUE);\n",
    "    create table if not exists teams(\n",
    "        id INTEGER PRIMARY KEY AUTOINCREMENT UNIQUE NOT NULL,\n",
    "        school TEXT,\n",
    "        rank INTEGER);\n",
    "    create table if not exists places(\n",
    "        place INTEGER, \n",
    "        team_id INTEGER, \n",
    "        tournament_id INTEGER, \n",
    "        event_id INTEGER, \n",
    "        PRIMARY KEY (team_id,tournament_id,event_id));\n",
    "    create table if not exists tournaments(\n",
    "        id INTEGER PRIMARY KEY AUTOINCREMENT UNIQUE NOT NULL,\n",
    "        tournament TEXT UNIQUE,\n",
    "        division INTEGER,\n",
    "        day DATE,\n",
    "        location TEXT);\n",
    "    create table if not exists events_tournaments(\n",
    "        tournament_id INTEGER, \n",
    "        event_id INTEGER, \n",
    "        official INTEGER,\n",
    "        PRIMARY KEY (tournament_id,event_id))''')"
   ]
  },
  {
   "cell_type": "code",
   "execution_count": null,
   "metadata": {},
   "outputs": [],
   "source": [
    "ytxt = yaml.load((urllib.request.urlopen(refs2[3])).read().decode(),Loader=yaml.FullLoader)"
   ]
  },
  {
   "cell_type": "code",
   "execution_count": null,
   "metadata": {},
   "outputs": [],
   "source": [
    "for ref in refs2:\n",
    "    fh = urllib.request.urlopen(ref)\n",
    "    txt = fh.read().decode()\n",
    "    \n",
    "    ytxt = yaml.load(txt,Loader=yaml.FullLoader)\n",
    "    "
   ]
  },
  {
   "cell_type": "code",
   "execution_count": null,
   "metadata": {},
   "outputs": [],
   "source": [
    "# tournaments\n",
    "cur.execute('''\n",
    "    INSERT OR IGNORE INTO tournaments(tournament,division,day,location)\n",
    "    VALUES (?,?,?,?)''',\n",
    "    (ytxt['Tournament'].get('name',None),\n",
    "    1 if ytxt['Tournament'].get('division',None)=='C' else 0,\n",
    "    ytxt['Tournament'].get('date',ytxt['Tournament'].get('start date',None)),\n",
    "    ytxt['Tournament'].get('location',None)))\n",
    "cur.execute('SELECT id FROM tournaments WHERE tournament=?',(ytxt['Tournament']['name'],))\n",
    "tournament_id = cur.fetchone()[0]"
   ]
  },
  {
   "cell_type": "code",
   "execution_count": null,
   "metadata": {},
   "outputs": [],
   "source": [
    "# create teams\n",
    "from collections import Counter\n",
    "schoolCounts = Counter([i['school'] for i in ytxt['Teams']])\n",
    "schools = list()\n",
    "\n",
    "for school,count in schoolCounts.items():\n",
    "    if count<1: \n",
    "        print('Error: Invalid school counts:',ytxt['Tournament']['name'],'-',school)\n",
    "        continue\n",
    "    for i in range(1,count+1):\n",
    "        schools.append((school,i))\n",
    "\n",
    "# check valid team names and numbers\n",
    "if len(schools) != len(ytxt['Teams']):\n",
    "    print('Error: Invalid number of teams:',ytxt['Tournament']['name'])\n",
    "    #continue\n",
    "if len(schools) != len(set(schools)):\n",
    "    print('Error: Duplicated team names:',ytxt['Tournament']['name'])\n",
    "    #continue\n",
    "\n",
    "# SQL stuff\n",
    "cur.executemany('''INSERT OR IGNORE INTO teams(school,rank) VALUES (?,?)''',schools)"
   ]
  },
  {
   "cell_type": "code",
   "execution_count": null,
   "metadata": {},
   "outputs": [],
   "source": [
    "# create team number - school,rank dictionary; rank ordered by team number for each school\n",
    "teams = list(set([i['school'] for i in ytxt['Teams']]))\n",
    "teamsCounter = {i:0 for i in teams}\n",
    "\n",
    "teamNumbers = [[i['number'],i['school'],None] for i in ytxt['Teams']]\n",
    "teamNumbers.sort()\n",
    "\n",
    "for i in range(len(teamNumbers)):\n",
    "    teamsCounter[teamNumbers[i][1]] += 1\n",
    "    count = teamsCounter[teamNumbers[i][1]]\n",
    "    teamNumbers[i][2] = count\n",
    "\n",
    "teamNumbers2 = {i[0]:[i[1],i[2]] for i in teamNumbers}\n",
    "nTeams = len(teamNumbers2)"
   ]
  },
  {
   "cell_type": "code",
   "execution_count": null,
   "metadata": {},
   "outputs": [],
   "source": [
    "# get events data\n",
    "events = [i['name'] for i in ytxt['Events']] # all events\n",
    "trialEvents = [i['name'] for i in ytxt['Events'] if i.get('trial',False) or i.get('trialed',False)] # all trial/trialed events\n",
    "# check valid events and trial events\n",
    "if len(events)!=len(set(events)):\n",
    "    print('Error: Duplicated events:',ytxt['Tournament']['name'])\n",
    "    #continue\n",
    "if len([i for i in ytxt['Events'] if len(i)>1])!=len(trialEvents):\n",
    "    print('Warning: Unrecognized event tag:',ytxt['Tournament']['name'])\n",
    "    \n",
    "# SQL stuff\n",
    "for event in events:\n",
    "    cur.execute('''INSERT OR IGNORE INTO events(event) VALUES(?)''',(event,))\n",
    "    cur.execute('SELECT id FROM events WHERE event=?',(event,))\n",
    "    event_id = cur.fetchone()[0]\n",
    "    cur.execute('''INSERT OR IGNORE INTO events_tournaments(tournament_id, event_id, official)\n",
    "        VALUES (?,?,?)''',(tournament_id, event_id, 0 if event in trialEvents else 1))"
   ]
  },
  {
   "cell_type": "code",
   "execution_count": null,
   "metadata": {},
   "outputs": [],
   "source": [
    "# places\n",
    "for place in ytxt['Placings']:\n",
    "    # locate team id\n",
    "    school = teamNumbers2[place.get('team')]\n",
    "    cur.execute('''SELECT id FROM teams WHERE school=? and rank=?''',(school[0],school[1]))\n",
    "    team_id = cur.fetchone()[0]\n",
    "    \n",
    "    # event id\n",
    "    cur.execute('SELECT id FROM events WHERE event=?',(place['event'],))\n",
    "    event_id = cur.fetchone()[0]\n",
    "    \n",
    "    # main\n",
    "    cur.execute('''INSERT OR IGNORE INTO places(place,team_id,tournament_id,event_id) VALUES (?,?,?,?)''',\n",
    "        (place.get('place',nTeams+1), team_id, tournament_id, event_id))\n",
    "\n",
    "conn.commit()"
   ]
  },
  {
   "cell_type": "code",
   "execution_count": 38,
   "metadata": {},
   "outputs": [],
   "source": [
    "cur.close()"
   ]
  }
 ],
 "metadata": {
  "kernelspec": {
   "display_name": "Python 3",
   "language": "python",
   "name": "python3"
  },
  "language_info": {
   "codemirror_mode": {
    "name": "ipython",
    "version": 3
   },
   "file_extension": ".py",
   "mimetype": "text/x-python",
   "name": "python",
   "nbconvert_exporter": "python",
   "pygments_lexer": "ipython3",
   "version": "3.8.5"
  }
 },
 "nbformat": 4,
 "nbformat_minor": 4
}
